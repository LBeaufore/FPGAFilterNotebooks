{
 "cells": [
  {
   "cell_type": "code",
   "execution_count": 1,
   "id": "e65e9de5",
   "metadata": {},
   "outputs": [],
   "source": [
    "import numpy as np\n",
    "from matplotlib import pyplot as plt\n",
    "from scipy.signal import lfilter\n",
    "from scipy import signal"
   ]
  },
  {
   "cell_type": "code",
   "execution_count": 2,
   "id": "f678a7df",
   "metadata": {},
   "outputs": [],
   "source": [
    "def import_data(file_loc, truncate=True, debug = False):\n",
    "    captured_data = np.load(file_loc)\n",
    "    input0_offset=np.argmax((captured_data[0]>0).astype(int))\n",
    "    input1_offset=np.argmax((captured_data[1]>0).astype(int))\n",
    "    output0_offset=np.argmax((captured_data[2]>0).astype(int))\n",
    "    output1_offset=np.argmax((captured_data[3]>0).astype(int))\n",
    "    \n",
    "    # Truncate to 12 bits from 16\n",
    "    input0 = captured_data[0]\n",
    "    input1 = captured_data[1]\n",
    "    if(truncate):\n",
    "        input0 = np.right_shift(input0,4)\n",
    "        input0 = np.left_shift(input0,4).astype(np.int16)\n",
    "        \n",
    "        input1 = np.right_shift(input1,4)\n",
    "        input1 = np.left_shift(input1,4).astype(np.int16)\n",
    "\n",
    "    output0 = captured_data[2]\n",
    "    output1 = captured_data[3]\n",
    "\n",
    "    if(debug):\n",
    "        print(\"input0_offset: %s\"%(input0_offset))\n",
    "        print(\"input1_offset: %s\"%(input1_offset))\n",
    "        print(\"output0_offset: %s\"%(output0_offset))\n",
    "        print(\"output1_offset: %s\"%(output1_offset))\n",
    "\n",
    "        print(\"input0_offset%%8: %s\"%(input0_offset%8))\n",
    "        print(\"input1_offset%%8: %s\"%(input1_offset%8))\n",
    "        print(\"output0_offset%%8: %s\"%(output0_offset%8))\n",
    "        print(\"output1_offset%%8: %s\"%(output1_offset%8))\n",
    "\n",
    "        print(\"input 0 first value: %s\"%input0[input0_offset])\n",
    "        print(\"input 1 first value: %s\"%input1[input1_offset])\n",
    "    \n",
    "    return (input0, input1, output0, output1, input0_offset, input1_offset, output0_offset, output1_offset)"
   ]
  },
  {
   "cell_type": "markdown",
   "id": "cb36f5a5",
   "metadata": {},
   "source": [
    "# Simulation"
   ]
  },
  {
   "cell_type": "code",
   "execution_count": 14,
   "id": "d39f4257",
   "metadata": {},
   "outputs": [],
   "source": [
    "def manual_fir_section(coeffs, x):\n",
    "    x = np.array(x)\n",
    "    y = np.zeros(len(x))\n",
    "    for coeff_set in coeffs:\n",
    "        for i in range(len(coeff_set), len(x)):\n",
    "            total = 0\n",
    "            for j in range(len(coeff_set)):\n",
    "#                 print(coeff_set[j])\n",
    "                total += coeff_set[j] * x[i-j]\n",
    "            y[i] = total\n",
    "        x=np.copy(y)\n",
    "        y=np.zeros(len(x))\n",
    "    return x"
   ]
  },
  {
   "cell_type": "code",
   "execution_count": 15,
   "id": "627f2070",
   "metadata": {},
   "outputs": [],
   "source": [
    "data = import_data(\"CaptureData/capture_240822_A_0_B_1_impulse_X1_16384_f_after.npy\")\n",
    "input0 = data[0]\n",
    "input1 = data[1]\n",
    "output0 = data[2]\n",
    "output1 = data[3]\n",
    "input0_offset = data[4]\n",
    "input1_offset = data[5]\n",
    "output0_offset = data[6]\n",
    "output1_offset = data[7]"
   ]
  },
  {
   "cell_type": "code",
   "execution_count": 16,
   "id": "86320f17",
   "metadata": {},
   "outputs": [],
   "source": [
    "known_delay = output0_offset - input0_offset - 1 # The 1 is from the delay inherent in the z^-1 of the first filter"
   ]
  },
  {
   "cell_type": "code",
   "execution_count": null,
   "id": "8c97774c",
   "metadata": {
    "scrolled": false
   },
   "outputs": [],
   "source": [
    "zero_coeffs = [0,1,0]\n",
    "pole_coeffs = [1,2,0,0,0,0]\n",
    "\n",
    "zero_fir_coeff = np.array(zero_coeffs, dtype=float)\n",
    "pole_fir_coeff = np.array(pole_coeffs, dtype=float)\n",
    "\n",
    "output0_filtered_step1 = lfilter(zero_fir_coeff, [1], input0)\n",
    "# print(np.array(output0_filtered))\n",
    "output0_filtered = lfilter(pole_fir_coeff, [1], output0_filtered_step1)\n",
    "output0_filtered = np.concatenate((np.zeros(known_delay), np.array(output0_filtered)))\n",
    "\n",
    "output0_manual_filtered = manual_fir_section((zero_coeffs,pole_coeffs),input0)\n",
    "output0_manual_filtered = np.concatenate((np.zeros(known_delay), np.array(output0_manual_filtered)))\n",
    "\n",
    "plt.title(\"\")\n",
    "plt.plot(np.array(range(len(input0))), input0, linestyle=\"None\", \n",
    "         marker=\"o\", label = \"Input\", color=\"b\")\n",
    "# plt.plot(np.array(range(len(output0))), output0, linestyle=\"None\", \n",
    "#          marker=\"x\", label = \"Output\", color=\"g\")\n",
    "plt.plot(np.array(range(len(output0_filtered))), output0_filtered, linestyle=\"None\", \n",
    "         marker=\"+\", label = \"Output Filtered\", color=\"r\")\n",
    "plt.plot(np.array(range(len(output0_manual_filtered))), output0_manual_filtered, linestyle=\"None\", \n",
    "         marker=\"x\", label = \"Output Manual Filtered\", color=\"k\")\n",
    "plt.xlabel(\"Sample\")\n",
    "plt.legend()\n",
    "plt.xlim(200,1000)\n",
    "plt.show()\n",
    "\n",
    "\n",
    "plt.title(\"Zoomed\")\n",
    "plt.plot(np.array(range(len(input0))), input0, linestyle=\"None\", \n",
    "         marker=\"o\", label = \"Input\", color=\"b\")\n",
    "# plt.plot(np.array(range(len(output0))), output0, linestyle=\"None\", \n",
    "#          marker=\"x\", label = \"Output\", color=\"g\")\n",
    "plt.plot(np.array(range(len(output0_filtered))), output0_filtered, linestyle=\"None\", \n",
    "         marker=\"+\", label = \"Output Filtered\", color=\"r\")\n",
    "plt.plot(np.array(range(len(output0_manual_filtered))), output0_manual_filtered, linestyle=\"None\", \n",
    "         marker=\"x\", label = \"Output Manual Filtered\", color=\"k\")\n",
    "plt.xlabel(\"Sample\")\n",
    "plt.legend()\n",
    "plt.xlim(300,500)\n",
    "plt.show()\n",
    "\n",
    "plt.title(\"Zoomed 2\")\n",
    "plt.plot(np.array(range(len(input0))), input0, linestyle=\"None\", \n",
    "         marker=\"o\", label = \"Input\", color=\"b\")\n",
    "# plt.plot(np.array(range(len(output0))), output0, linestyle=\"None\", \n",
    "#          marker=\"x\", label = \"Output\", color=\"g\")\n",
    "plt.plot(np.array(range(len(output0_filtered))), output0_filtered, linestyle=\"None\", \n",
    "         marker=\"+\", label = \"Output Filtered\", color=\"r\")\n",
    "plt.plot(np.array(range(len(output0_manual_filtered))), output0_manual_filtered, linestyle=\"None\", \n",
    "         marker=\"x\", label = \"Output Manual Filtered\", color=\"k\")\n",
    "plt.xlabel(\"Sample\")\n",
    "plt.legend()\n",
    "plt.xlim(400,475)\n",
    "plt.show()\n"
   ]
  },
  {
   "cell_type": "markdown",
   "id": "413862fa",
   "metadata": {},
   "source": [
    "# Actual Data"
   ]
  },
  {
   "cell_type": "code",
   "execution_count": null,
   "id": "0df1f192",
   "metadata": {},
   "outputs": [],
   "source": [
    "data = import_data(\"CaptureData/capture_082124_A_0_B_1_impulse_Xall_16384_fg.npy\")\n",
    "input0 = data[0]\n",
    "input1 = data[1]\n",
    "output0 = data[2]\n",
    "output1 = data[3]\n",
    "input0_offset = data[4]\n",
    "input1_offset = data[5]\n",
    "output0_offset = data[6]\n",
    "output1_offset = data[7]"
   ]
  },
  {
   "cell_type": "code",
   "execution_count": null,
   "id": "27e26d7b",
   "metadata": {},
   "outputs": [],
   "source": [
    "plt.title(\"\")\n",
    "plt.plot(np.array(range(len(input0))), input0, linestyle=\"None\", \n",
    "         marker=\".\", label = \"Input\", color=\"b\")\n",
    "plt.plot(np.array(range(len(output0))), output0, linestyle=\"None\", \n",
    "         marker=\".\", label = \"Output\", color=\"r\")\n",
    "plt.xlabel(\"Sample\")\n",
    "plt.legend()\n",
    "plt.xlim(200,1000)\n",
    "plt.show()\n",
    "\n",
    "# plt.plot(np.array(range(len(captured_data[1]))), captured_data[1], linestyle=\"None\", \n",
    "#          marker=\".\", label = \"In ADC 1\")\n",
    "# # print(\"[%f, %f]\"%(np.max(captured_data[index])/(2.0**15),np.min(captured_data[index])/(2.0**15)))\n",
    "# plt.xlabel(\"Samples\")\n",
    "# plt.legend()\n",
    "# plt.xlim(200,1000)\n",
    "# plt.show()\n",
    "\n",
    "# plt.title(\"Post Filter Out\")\n",
    "# plt.plot(np.array(range(len(captured_data[2]))), captured_data[2], linestyle=\"None\", \n",
    "#          marker=\".\", label = \"Out DAC 6\")\n",
    "# # print(\"[%f, %f]\"%(np.max(captured_data[index])/(2.0**15),np.min(captured_data[index])/(2.0**15)))\n",
    "# plt.xlabel(\"Samples\")\n",
    "# plt.legend()\n",
    "# plt.xlim(200,1000)\n",
    "\n",
    "# plt.plot(np.array(range(len(captured_data[3]))), captured_data[3], linestyle=\"None\", \n",
    "#          marker=\".\", label = \"Out DAC 7\")\n",
    "# # print(\"[%f, %f]\"%(np.max(captured_data[index])/(2.0**15),np.min(captured_data[index])/(2.0**15)))\n",
    "# plt.xlabel(\"Samples\")\n",
    "# plt.legend()\n",
    "# plt.xlim(200,1000)\n",
    "# plt.show()"
   ]
  },
  {
   "cell_type": "code",
   "execution_count": null,
   "id": "443be67a",
   "metadata": {},
   "outputs": [],
   "source": []
  },
  {
   "cell_type": "code",
   "execution_count": null,
   "id": "535d6c7c",
   "metadata": {},
   "outputs": [],
   "source": []
  }
 ],
 "metadata": {
  "kernelspec": {
   "display_name": "Python 3 (ipykernel)",
   "language": "python",
   "name": "python3"
  },
  "language_info": {
   "codemirror_mode": {
    "name": "ipython",
    "version": 3
   },
   "file_extension": ".py",
   "mimetype": "text/x-python",
   "name": "python",
   "nbconvert_exporter": "python",
   "pygments_lexer": "ipython3",
   "version": "3.11.5"
  }
 },
 "nbformat": 4,
 "nbformat_minor": 5
}
