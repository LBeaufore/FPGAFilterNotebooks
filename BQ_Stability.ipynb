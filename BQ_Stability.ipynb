{
 "cells": [
  {
   "cell_type": "code",
   "execution_count": 11,
   "id": "d48a631d-a2c0-4cbc-9de8-c6ac312cb23e",
   "metadata": {},
   "outputs": [],
   "source": [
    "import numpy as np\n",
    "from matplotlib import pyplot as plt\n",
    "import matplotlib\n",
    "from scipy.signal import lfilter\n",
    "from scipy import signal\n",
    "import scipy\n",
    "import math\n",
    "from iir_biquad import iir_biquad as iir_biquad_patrick\n",
    "from iir_biquad import test as test_patrick\n",
    "from IIRSim import *\n",
    "from IIRSimUtils import *\n",
    "from FrequencyResponse import *\n",
    "from FPGATestIO import *\n",
    "from scipy.special import eval_chebyu"
   ]
  },
  {
   "cell_type": "markdown",
   "id": "2afbb0ca",
   "metadata": {},
   "source": [
    "# 8 Sample Biquad"
   ]
  },
  {
   "cell_type": "code",
   "execution_count": 12,
   "id": "f8667736",
   "metadata": {},
   "outputs": [
    {
     "name": "stdout",
     "output_type": "stream",
     "text": [
      "100\n",
      "298\n",
      "100\n",
      "298\n",
      "[[   1    6   11 ... 1476 1481 1486]\n",
      " [   1    6   11 ... 1476 1481 1486]\n",
      " [   1    6   11 ... 1476 1481 1486]\n",
      " ...\n",
      " [   1    6   11 ... 1476 1481 1486]\n",
      " [   1    6   11 ... 1476 1481 1486]\n",
      " [   1    6   11 ... 1476 1481 1486]]\n",
      "[[ 1.          1.          1.         ...  1.          1.\n",
      "   1.        ]\n",
      " [ 1.19191919  1.19191919  1.19191919 ...  1.19191919  1.19191919\n",
      "   1.19191919]\n",
      " [ 1.38383838  1.38383838  1.38383838 ...  1.38383838  1.38383838\n",
      "   1.38383838]\n",
      " ...\n",
      " [19.61616162 19.61616162 19.61616162 ... 19.61616162 19.61616162\n",
      "  19.61616162]\n",
      " [19.80808081 19.80808081 19.80808081 ... 19.80808081 19.80808081\n",
      "  19.80808081]\n",
      " [20.         20.         20.         ... 20.         20.\n",
      "  20.        ]]\n"
     ]
    }
   ],
   "source": [
    "SAMPLE_FREQ = 3000\n",
    "x, y = np.meshgrid(np.arange(1,1490,5),np.linspace(1,20,100))\n",
    "z = np.zeros((len(x),len(x[0])))\n",
    "print(x.shape[0])\n",
    "print(x.shape[1])\n",
    "print(y.shape[0])\n",
    "print(y.shape[1])\n",
    "print(x)\n",
    "print(y)\n",
    "for q_factor_idx in range(x.shape[0]):#100\n",
    "    # print(x[0][notch_idx])\n",
    "    for notch_idx in range(x.shape[1]):#60\n",
    "        # print(\"Notch: %s, Q: %s\"%(x[q_factor_idx][notch_idx], y[q_factor_idx][notch_idx]))\n",
    "        b, a = signal.iirnotch(x[q_factor_idx][notch_idx],y[q_factor_idx][notch_idx], SAMPLE_FREQ)\n",
    "        # b, a = signal.iirnotch(520,30, SAMPLE_FREQ)\n",
    "        pole = signal.tf2zpk(b,a)[1][0]\n",
    "        zero = signal.tf2zpk(b,a)[0][0]\n",
    "        pmag=np.abs(pole)\n",
    "        pangle=np.angle(pole)\n",
    "        zmag=np.abs(zero)\n",
    "        zangle=np.angle(zero)\n",
    "\n",
    "\n",
    "        characteristic_poly0 = [1,0,0,0,0,0,0,-1*eval_chebyu(7,np.cos(pangle))*(pmag**7),eval_chebyu(6,np.cos(pangle))*(pmag**8)] # M=7\n",
    "        roots0 = np.roots(characteristic_poly0)\n",
    "        cancel_mags0 = np.abs(roots0)\n",
    "        cancel_angles0 = np.angle(roots0)\n",
    "            \n",
    "        characteristic_poly1 = [1,0,0,0,0,0,0,0,-1*eval_chebyu(8,np.cos(pangle))*(pmag**8),eval_chebyu(7,np.cos(pangle))*(pmag**9)] # M=8\n",
    "        roots1 = np.roots(characteristic_poly1)\n",
    "        cancel_mags1 = np.abs(roots1)\n",
    "        cancel_angles1 = np.angle(roots1)\n",
    "\n",
    "        \n",
    "        characteristic_poly0 = [1,0,0,0,0,0,0,-1*eval_chebyu(7,np.cos(pangle))*(pmag**7),eval_chebyu(6,np.cos(pangle))*(pmag**8)] # M=7\n",
    "        roots0 = np.roots(characteristic_poly0)\n",
    "        cancel_mags0 = np.abs(roots0)\n",
    "        cancel_angles0 = np.angle(roots0)\n",
    "        characteristic_poly1 = [1,0,0,0,0,0,0,0,-1*eval_chebyu(8,np.cos(pangle))*(pmag**8),eval_chebyu(7,np.cos(pangle))*(pmag**9)] # M=8\n",
    "        roots1 = np.roots(characteristic_poly1)\n",
    "        cancel_mags1 = np.abs(roots1)\n",
    "        cancel_angles1 = np.angle(roots1)\n",
    "        # print(np.max(cancel_mags0))\n",
    "        if (np.max(cancel_mags0)<1 and np.max(cancel_mags1)<1):\n",
    "            # print(\"found one\")\n",
    "            z[q_factor_idx][notch_idx] = 1\n",
    "\n",
    "        \n",
    "        # plt.clf()\n",
    "        # fig = plt.figure(num='Biquad CLA Cancels',figsize=(10,4.8))\n",
    "        # ax=fig.add_subplot(1,10,(1,10),projection='polar')\n",
    "        # ax.set_rlim(0,1.25)\n",
    "        # poles = ax.scatter(cancel_angles0,cancel_mags0,c='blue',marker=\"x\", s=75)\n",
    "        # zeros = ax.scatter(cancel_angles1,cancel_mags1, marker=\"o\", s=75,facecolors='none', edgecolors='blue')\n",
    "        # unit_circle = ax.plot(np.linspace(0,2*np.pi,1000), np.ones(1000), color=\"red\", linestyle=\"--\")\n",
    "        # plt.show()\n",
    "        # break\n",
    "       "
   ]
  },
  {
   "cell_type": "code",
   "execution_count": 13,
   "id": "5119c849-b727-465e-818a-da020edf3dfb",
   "metadata": {},
   "outputs": [
    {
     "data": {
      "image/png": "[encoded data removed]",
      "text/plain": [
       "<Figure size 640x480 with 1 Axes>"
      ]
     },
     "metadata": {},
     "output_type": "display_data"
    }
   ],
   "source": [
    "cMap = matplotlib.colors.ListedColormap(['lightgrey','limegreen'])\n",
    "h = plt.pcolormesh(x, y, z, cmap=cMap)\n",
    "# plt.axis(\"scaled\")\n",
    "# plt.colorbar()\n",
    "plt.scatter([],[],color=\"limegreen\", label=\"Stable\")\n",
    "plt.scatter([],[],color=\"lightgrey\", label=\"Unstable\")\n",
    "plt.title(\"Stable Biquad Phase Space, M=8\")\n",
    "plt.xlabel(\"Notch Location (Hz)\")\n",
    "plt.ylabel(\"Q Factor\")\n",
    "plt.legend(loc=2)\n",
    "# plt.xlim(40, 650)\n",
    "plt.ylim(1, 10)\n",
    "plt.savefig(\"001_files/images/notch_phase_space_m=8.png\")\n",
    "plt.show()"
   ]
  },
  {
   "cell_type": "markdown",
   "id": "1868b069",
   "metadata": {},
   "source": [
    "# 4 Sample Biquad"
   ]
  },
  {
   "cell_type": "code",
   "execution_count": null,
   "id": "463168f8",
   "metadata": {},
   "outputs": [
    {
     "name": "stdout",
     "output_type": "stream",
     "text": [
      "100\n",
      "148\n",
      "100\n",
      "148\n",
      "[[  1   6  11 ... 726 731 736]\n",
      " [  1   6  11 ... 726 731 736]\n",
      " [  1   6  11 ... 726 731 736]\n",
      " ...\n",
      " [  1   6  11 ... 726 731 736]\n",
      " [  1   6  11 ... 726 731 736]\n",
      " [  1   6  11 ... 726 731 736]]\n",
      "[[ 1.          1.          1.         ...  1.          1.\n",
      "   1.        ]\n",
      " [ 1.19191919  1.19191919  1.19191919 ...  1.19191919  1.19191919\n",
      "   1.19191919]\n",
      " [ 1.38383838  1.38383838  1.38383838 ...  1.38383838  1.38383838\n",
      "   1.38383838]\n",
      " ...\n",
      " [19.61616162 19.61616162 19.61616162 ... 19.61616162 19.61616162\n",
      "  19.61616162]\n",
      " [19.80808081 19.80808081 19.80808081 ... 19.80808081 19.80808081\n",
      "  19.80808081]\n",
      " [20.         20.         20.         ... 20.         20.\n",
      "  20.        ]]\n"
     ]
    }
   ],
   "source": [
    "M=4\n",
    "SAMPLE_FREQ = 1500\n",
    "\n",
    "\n",
    "x, y = np.meshgrid(np.arange(1,740,5),np.linspace(1,20,100))\n",
    "z = np.zeros((len(x),len(x[0])))\n",
    "print(x.shape[0])\n",
    "print(x.shape[1])\n",
    "print(y.shape[0])\n",
    "print(y.shape[1])\n",
    "print(x)\n",
    "print(y)\n",
    "for q_factor_idx in range(x.shape[0]):#100\n",
    "    # print(x[0][notch_idx])\n",
    "    for notch_idx in range(x.shape[1]):#60\n",
    "        # print(\"Notch: %s, Q: %s\"%(x[q_factor_idx][notch_idx], y[q_factor_idx][notch_idx]))\n",
    "        b, a = signal.iirnotch(x[q_factor_idx][notch_idx],y[q_factor_idx][notch_idx], SAMPLE_FREQ)\n",
    "        # b, a = signal.iirnotch(520,30, SAMPLE_FREQ)\n",
    "        pole = signal.tf2zpk(b,a)[1][0]\n",
    "        zero = signal.tf2zpk(b,a)[0][0]\n",
    "        pmag=np.abs(pole)\n",
    "        pangle=np.angle(pole)\n",
    "        zmag=np.abs(zero)\n",
    "        zangle=np.angle(zero)\n",
    "\n",
    "        characteristic_poly0 = [1]\n",
    "        for i in range(M-2):\n",
    "            characteristic_poly0.append(0)\n",
    "        characteristic_poly0.append(-1*eval_chebyu((M-1),np.cos(pangle))*(pmag**(M-1)))\n",
    "        characteristic_poly0.append(eval_chebyu((M-2),np.cos(pangle))*(pmag**(M)))\n",
    "        roots0 = np.roots(characteristic_poly0)\n",
    "        cancel_mags0 = np.abs(roots0)\n",
    "        cancel_angles0 = np.angle(roots0)\n",
    "\n",
    "        \n",
    "        characteristic_poly1 = [1]\n",
    "        for i in range(M-1):\n",
    "            characteristic_poly1.append(0)\n",
    "        characteristic_poly1.append(-1*eval_chebyu((M),np.cos(pangle))*(pmag**(M)))\n",
    "        characteristic_poly1.append(eval_chebyu((M-1),np.cos(pangle))*(pmag**(M+1)))\n",
    "\n",
    "        # characteristic_poly1 = [1,0,0,-1*eval_chebyu(M,np.cos(pangle))*(pmag**M),eval_chebyu((M-1),np.cos(pangle))*(pmag**(M+1))] # M=8\n",
    "        roots1 = np.roots(characteristic_poly1)\n",
    "        cancel_mags1 = np.abs(roots1)\n",
    "        cancel_angles1 = np.angle(roots1)\n",
    "        # print(np.max(cancel_mags0))\n",
    "        if (np.max(cancel_mags0)<1 and np.max(cancel_mags1)<1):\n",
    "            # print(\"found one\")\n",
    "            z[q_factor_idx][notch_idx] = 1\n",
    "\n",
    "\n",
    "       "
   ]
  },
  {
   "cell_type": "code",
   "execution_count": 28,
   "id": "a7c8e936",
   "metadata": {},
   "outputs": [
    {
     "data": {
      "image/png": "[encoded data removed]",
      "text/plain": [
       "<Figure size 640x480 with 1 Axes>"
      ]
     },
     "metadata": {},
     "output_type": "display_data"
    }
   ],
   "source": [
    "cMap = matplotlib.colors.ListedColormap(['lightgrey','limegreen'])\n",
    "h = plt.pcolormesh(x, y, z, cmap=cMap)\n",
    "# plt.axis(\"scaled\")\n",
    "# plt.colorbar()\n",
    "plt.scatter([],[],color=\"limegreen\", label=\"Stable\")\n",
    "plt.scatter([],[],color=\"lightgrey\", label=\"Unstable\")\n",
    "plt.title(\"Stable Biquad Phase Space M=3\")\n",
    "plt.xlabel(\"Notch Location (Hz)\")\n",
    "plt.ylabel(\"Q Factor\")\n",
    "plt.legend(loc=2)\n",
    "# plt.xlim(40, 650)\n",
    "plt.ylim(1, 10)\n",
    "plt.savefig(\"001_files/images/notch_phase_space_m=3.png\")\n",
    "plt.show()"
   ]
  },
  {
   "cell_type": "code",
   "execution_count": null,
   "id": "5986b9d8",
   "metadata": {},
   "outputs": [],
   "source": []
  },
  {
   "cell_type": "code",
   "execution_count": null,
   "id": "c9915278",
   "metadata": {},
   "outputs": [],
   "source": []
  }
 ],
 "metadata": {
  "kernelspec": {
   "display_name": "base",
   "language": "python",
   "name": "python3"
  },
  "language_info": {
   "codemirror_mode": {
    "name": "ipython",
    "version": 3
   },
   "file_extension": ".py",
   "mimetype": "text/x-python",
   "name": "python",
   "nbconvert_exporter": "python",
   "pygments_lexer": "ipython3",
   "version": "3.12.7"
  }
 },
 "nbformat": 4,
 "nbformat_minor": 5
}
