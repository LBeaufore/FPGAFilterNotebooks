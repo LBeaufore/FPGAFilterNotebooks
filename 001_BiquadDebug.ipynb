{
 "cells": [
  {
   "cell_type": "code",
   "execution_count": 1,
   "id": "d48a631d-a2c0-4cbc-9de8-c6ac312cb23e",
   "metadata": {},
   "outputs": [],
   "source": [
    "import numpy as np\n",
    "from matplotlib import pyplot as plt\n",
    "import matplotlib\n",
    "from scipy.signal import lfilter\n",
    "from scipy import signal\n",
    "import scipy\n",
    "import math\n",
    "from iir_biquad import iir_biquad as iir_biquad_patrick\n",
    "from iir_biquad import test as test_patrick\n",
    "from IIRSim import *\n",
    "from FrequencyResponse import *"
   ]
  },
  {
   "cell_type": "code",
   "execution_count": null,
   "id": "be35770d-40ce-4db7-94b7-16f1c2c53e4c",
   "metadata": {},
   "outputs": [],
   "source": []
  }
 ],
 "metadata": {
  "kernelspec": {
   "display_name": "Python 3 (ipykernel)",
   "language": "python",
   "name": "python3"
  },
  "language_info": {
   "codemirror_mode": {
    "name": "ipython",
    "version": 3
   },
   "file_extension": ".py",
   "mimetype": "text/x-python",
   "name": "python",
   "nbconvert_exporter": "python",
   "pygments_lexer": "ipython3",
   "version": "3.12.4"
  }
 },
 "nbformat": 4,
 "nbformat_minor": 5
}
