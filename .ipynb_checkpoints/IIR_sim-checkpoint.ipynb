{
 "cells": [
  {
   "cell_type": "code",
   "execution_count": 1,
   "id": "76f5d645",
   "metadata": {},
   "outputs": [],
   "source": [
    "import numpy as np\n",
    "from matplotlib import pyplot as plt"
   ]
  },
  {
   "cell_type": "code",
   "execution_count": 3,
   "id": "6f2d8919",
   "metadata": {},
   "outputs": [],
   "source": [
    "a=np.arange(1024)"
   ]
  },
  {
   "cell_type": "code",
   "execution_count": 11,
   "id": "1073f1f8",
   "metadata": {},
   "outputs": [
    {
     "name": "stdout",
     "output_type": "stream",
     "text": [
      "[[   0    1    2 ...    5    6    7]\n",
      " [   8    9   10 ...   13   14   15]\n",
      " [  16   17   18 ...   21   22   23]\n",
      " ...\n",
      " [1000 1001 1002 ... 1005 1006 1007]\n",
      " [1008 1009 1010 ... 1013 1014 1015]\n",
      " [1016 1017 1018 ... 1021 1022 1023]]\n"
     ]
    }
   ],
   "source": [
    "samps=a.reshape(-1,8)\n",
    "print(samps)"
   ]
  },
  {
   "cell_type": "code",
   "execution_count": 13,
   "id": "15225615",
   "metadata": {},
   "outputs": [
    {
     "data": {
      "text/plain": [
       "array([   1,    9,   17,   25,   33,   41,   49,   57,   65,   73,   81,\n",
       "         89,   97,  105,  113,  121,  129,  137,  145,  153,  161,  169,\n",
       "        177,  185,  193,  201,  209,  217,  225,  233,  241,  249,  257,\n",
       "        265,  273,  281,  289,  297,  305,  313,  321,  329,  337,  345,\n",
       "        353,  361,  369,  377,  385,  393,  401,  409,  417,  425,  433,\n",
       "        441,  449,  457,  465,  473,  481,  489,  497,  505,  513,  521,\n",
       "        529,  537,  545,  553,  561,  569,  577,  585,  593,  601,  609,\n",
       "        617,  625,  633,  641,  649,  657,  665,  673,  681,  689,  697,\n",
       "        705,  713,  721,  729,  737,  745,  753,  761,  769,  777,  785,\n",
       "        793,  801,  809,  817,  825,  833,  841,  849,  857,  865,  873,\n",
       "        881,  889,  897,  905,  913,  921,  929,  937,  945,  953,  961,\n",
       "        969,  977,  985,  993, 1001, 1009, 1017])"
      ]
     },
     "execution_count": 13,
     "metadata": {},
     "output_type": "execute_result"
    }
   ],
   "source": [
    "samps.transpose()[1]"
   ]
  },
  {
   "cell_type": "code",
   "execution_count": null,
   "id": "611fe78a",
   "metadata": {},
   "outputs": [],
   "source": []
  }
 ],
 "metadata": {
  "kernelspec": {
   "display_name": "Python 3 (ipykernel)",
   "language": "python",
   "name": "python3"
  },
  "language_info": {
   "codemirror_mode": {
    "name": "ipython",
    "version": 3
   },
   "file_extension": ".py",
   "mimetype": "text/x-python",
   "name": "python",
   "nbconvert_exporter": "python",
   "pygments_lexer": "ipython3",
   "version": "3.11.5"
  }
 },
 "nbformat": 4,
 "nbformat_minor": 5
}
