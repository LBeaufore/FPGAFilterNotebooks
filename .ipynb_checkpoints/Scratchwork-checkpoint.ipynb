{
 "cells": [
  {
   "cell_type": "code",
   "execution_count": 1,
   "id": "2b28f8e6-b74e-4cb9-a3c8-91c56e0519ba",
   "metadata": {},
   "outputs": [],
   "source": [
    "from verilog_beam_headers import convert_beams_to_verilog"
   ]
  },
  {
   "cell_type": "code",
   "execution_count": 2,
   "id": "f557f34f",
   "metadata": {},
   "outputs": [],
   "source": [
    "# def convert_beams_to_verilog(infilename = \"L1Beams.csv\", outfilename = \"L1Beams_header.vh\", lead_antennas = [0,4]):\n",
    "#     with open(infilename, \"r\") as infile:\n",
    "#         with open(outfilename, \"w\") as outfile:\n",
    "#             antenna_maxes = {}\n",
    "#             for antenna_idx in range(8):\n",
    "#                 antenna_maxes[antenna_idx] = 0\n",
    "#             headerline = next(infile) # Might use in future version\n",
    "#             for beam_idx, line in enumerate(infile):\n",
    "#                 line = line.strip().split(\",\")\n",
    "#                 try:\n",
    "#                     elevation = float(line[0])\n",
    "#                     azimuth = float(line[1])\n",
    "#                 except Exception as ValueError:\n",
    "#                     break\n",
    "#                 delays = []\n",
    "#                 for antenna_idx in range(8):\n",
    "#                     delay = int(line[antenna_idx+2])\n",
    "#                     if antenna_maxes[antenna_idx] < delay:\n",
    "#                         antenna_maxes[antenna_idx] = delay\n",
    "#                     outfile.write(\"`define BEAM_{:d}_ANTENNA_DELAY_{:d} {:d}\\n\".format(beam_idx, antenna_idx, delay))\n",
    "#                     # outfile.write(\"`define \")\n",
    "#             for antenna_idx in lead_antennas:\n",
    "#                 outfile.write(\"`define MAX_ANTENNA_DELAY_{:d} {:d}\\n\".format(antenna_idx, antenna_maxes[antenna_idx]))\n",
    "#             print(\"Wrote out {:d} beams to \\\"{:s}\\\"\".format(beam_idx-1, outfilename))"
   ]
  },
  {
   "cell_type": "code",
   "execution_count": 4,
   "id": "fd7f17b6",
   "metadata": {},
   "outputs": [
    {
     "name": "stdout",
     "output_type": "stream",
     "text": [
      "Wrote out 45 beams to \"L1Beams_header.vh\"\n"
     ]
    }
   ],
   "source": [
    "convert_beams_to_verilog()"
   ]
  },
  {
   "cell_type": "code",
   "execution_count": null,
   "id": "5bdcf2e8",
   "metadata": {},
   "outputs": [],
   "source": []
  }
 ],
 "metadata": {
  "kernelspec": {
   "display_name": "Python 3 (ipykernel)",
   "language": "python",
   "name": "python3"
  },
  "language_info": {
   "codemirror_mode": {
    "name": "ipython",
    "version": 3
   },
   "file_extension": ".py",
   "mimetype": "text/x-python",
   "name": "python",
   "nbconvert_exporter": "python",
   "pygments_lexer": "ipython3",
   "version": "3.12.7"
  }
 },
 "nbformat": 4,
 "nbformat_minor": 5
}
