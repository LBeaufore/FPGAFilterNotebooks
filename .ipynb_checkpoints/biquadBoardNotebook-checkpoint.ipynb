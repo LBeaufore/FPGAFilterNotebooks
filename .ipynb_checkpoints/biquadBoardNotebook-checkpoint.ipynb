{
 "cells": [
  {
   "cell_type": "code",
   "execution_count": 1,
   "id": "f43ee2bf-73b5-430b-8ebb-a00c12040ef0",
   "metadata": {},
   "outputs": [],
   "source": [
    "import numpy as np\n",
    "from matplotlib import pyplot as plt\n",
    "import sys\n",
    "import os\n",
    "os.chdir('./lucas_files/biquad/')\n",
    "from zcumts import zcuMTS\n",
    "from zcubq8 import zcuBQ8"
   ]
  },
  {
   "cell_type": "code",
   "execution_count": 2,
   "id": "081d73fc-9423-4fbd-aab7-72993eae2971",
   "metadata": {},
   "outputs": [
    {
     "name": "stdout",
     "output_type": "stream",
     "text": [
      "Turning on SYNC\n",
      "Turning off SYNC\n"
     ]
    },
    {
     "data": {
      "application/javascript": [
       "\n",
       "try {\n",
       "require(['notebook/js/codecell'], function(codecell) {\n",
       "  codecell.CodeCell.options_default.highlight_modes[\n",
       "      'magic_text/x-csrc'] = {'reg':[/^%%microblaze/]};\n",
       "  Jupyter.notebook.events.one('kernel_ready.Kernel', function(){\n",
       "      Jupyter.notebook.get_cells().map(function(cell){\n",
       "          if (cell.cell_type == 'code'){ cell.auto_highlight(); } }) ;\n",
       "  });\n",
       "});\n",
       "} catch (e) {};\n"
      ]
     },
     "metadata": {},
     "output_type": "display_data"
    },
    {
     "data": {
      "application/javascript": [
       "\n",
       "try {\n",
       "require(['notebook/js/codecell'], function(codecell) {\n",
       "  codecell.CodeCell.options_default.highlight_modes[\n",
       "      'magic_text/x-csrc'] = {'reg':[/^%%pybind11/]};\n",
       "  Jupyter.notebook.events.one('kernel_ready.Kernel', function(){\n",
       "      Jupyter.notebook.get_cells().map(function(cell){\n",
       "          if (cell.cell_type == 'code'){ cell.auto_highlight(); } }) ;\n",
       "  });\n",
       "});\n",
       "} catch (e) {};\n"
      ]
     },
     "metadata": {},
     "output_type": "display_data"
    }
   ],
   "source": [
    "zcu = zcuBQ8(\"zcu111_slidingImpulseV6.bit\") "
   ]
  },
  {
   "cell_type": "code",
   "execution_count": 14,
   "id": "20f2982c-d651-4515-890a-a3c0cfccd8ac",
   "metadata": {},
   "outputs": [
    {
     "data": {
      "text/plain": [
       "4"
      ]
     },
     "execution_count": 14,
     "metadata": {},
     "output_type": "execute_result"
    }
   ],
   "source": [
    "total = 16384#32768/2\n",
    "# A = int(0.35*total)\n",
    "# B = total - 2*A\n",
    "# B=total\n",
    "# A=0\n",
    "A = 0#int(total/4)\n",
    "B = total#int(total/2)\n",
    "\n",
    "if(2*A+B != total):\n",
    "    raise Exception(\"Coefficients don't sum: %s\"%(2*A+B))\n",
    "offset = 0x0\n",
    "# Single Zero FIR coefficients\n",
    "zcu.wbw(offset+0x04, B)\n",
    "zcu.wbw(offset+0x04, A)\n",
    "\n",
    "# Pole IIR coefficients\n",
    "zcu.wbw(offset+0x08, 0)\n",
    "zcu.wbw(offset+0x08, 0)\n",
    "zcu.wbw(offset+0x08, 0)\n",
    "zcu.wbw(offset+0x08, 0)\n",
    "\n",
    "# Incremental computation coefficients\n",
    "zcu.wbw(offset+0x0C, 0)\n",
    "zcu.wbw(offset+0x0C, 0)\n",
    "\n",
    "# f FIR coefficients\n",
    "zcu.wbw(offset+0x10, 0) #D_FF\n",
    "zcu.wbw(offset+0x10, 0) #X6\n",
    "zcu.wbw(offset+0x10, 0)\n",
    "zcu.wbw(offset+0x10, 0)\n",
    "zcu.wbw(offset+0x10, 0)\n",
    "zcu.wbw(offset+0x10, 0)\n",
    "zcu.wbw(offset+0x10, 0)#!!!!!\n",
    "\n",
    "# g FIR coefficients\n",
    "zcu.wbw(offset+0x14, 0) #E_GG\n",
    "zcu.wbw(offset+0x14, 0) #X7\n",
    "zcu.wbw(offset+0x14, 0)\n",
    "zcu.wbw(offset+0x14, 0)\n",
    "zcu.wbw(offset+0x14, 0)\n",
    "zcu.wbw(offset+0x14, 0)\n",
    "zcu.wbw(offset+0x14, 0)\n",
    "zcu.wbw(offset+0x14, 0)#16384)#!!!!\n",
    "\n",
    "# g coefficient in F\n",
    "zcu.wbw(offset+0x18, 0) #D_FG\n",
    "\n",
    "# f coefficient in G\n",
    "zcu.wbw(offset+0x1C, 0) #E_GF\n",
    "\n",
    "zcu.wbw(offset+0x00, 1)\n",
    "\n",
    "\n",
    "\n",
    "offset = 0x80\n",
    "# Single Zero FIR coefficients\n",
    "zcu.wbw(offset+0x04, B)\n",
    "zcu.wbw(offset+0x04, A)\n",
    "\n",
    "# Pole IIR coefficients\n",
    "zcu.wbw(offset+0x08, 0)\n",
    "zcu.wbw(offset+0x08, 0)\n",
    "zcu.wbw(offset+0x08, 0)\n",
    "zcu.wbw(offset+0x08, 0)\n",
    "\n",
    "# Incremental computation coefficients\n",
    "zcu.wbw(offset+0x0C, 0)\n",
    "zcu.wbw(offset+0x0C, 0)\n",
    "\n",
    "# f FIR coefficients\n",
    "zcu.wbw(offset+0x10, 0) #D_FF\n",
    "zcu.wbw(offset+0x10, 0) #X6\n",
    "zcu.wbw(offset+0x10, 0)\n",
    "zcu.wbw(offset+0x10, 0)\n",
    "zcu.wbw(offset+0x10, 0)\n",
    "zcu.wbw(offset+0x10, 0)\n",
    "zcu.wbw(offset+0x10, 0)\n",
    "\n",
    "# g FIR coefficients\n",
    "zcu.wbw(offset+0x14, 0) #E_GG\n",
    "zcu.wbw(offset+0x14, 0) #X7\n",
    "zcu.wbw(offset+0x14, 0)\n",
    "zcu.wbw(offset+0x14, 0)\n",
    "zcu.wbw(offset+0x14, 0)\n",
    "zcu.wbw(offset+0x14, 0)\n",
    "zcu.wbw(offset+0x14, 0)\n",
    "zcu.wbw(offset+0x14, 0)\n",
    "\n",
    "# g coefficient in F\n",
    "zcu.wbw(offset+0x18, 0) #D_FG\n",
    "\n",
    "# f coefficient in G\n",
    "zcu.wbw(offset+0x1C, 0) #E_GF\n",
    "\n",
    "zcu.wbw(offset+0x00, 1)"
   ]
  },
  {
   "cell_type": "code",
   "execution_count": 15,
   "id": "156533d2-72d8-48fc-9048-12298f7e0228",
   "metadata": {},
   "outputs": [],
   "source": [
    "captured_data_before = np.zeros((4,16384), dtype=np.int16)#np.zeros((4,128*20), dtype=np.int16) # Channels, length\n",
    "zcu.internal_capture(captured_data_before, num_chan=4)"
   ]
  },
  {
   "cell_type": "code",
   "execution_count": 16,
   "id": "24b76fcb-55f8-4c73-850b-6e97a6c4c75f",
   "metadata": {},
   "outputs": [
    {
     "data": {
      "text/plain": [
       "4"
      ]
     },
     "execution_count": 16,
     "metadata": {},
     "output_type": "execute_result"
    }
   ],
   "source": [
    "total = 16384#32768/2\n",
    "# A = int(0.35*total)\n",
    "# B = total - 2*A\n",
    "# B=total\n",
    "# A=0\n",
    "A = 0#int(total/4)\n",
    "B = total#int(total/2)\n",
    "\n",
    "if(2*A+B != total):\n",
    "    raise Exception(\"Coefficients don't sum: %s\"%(2*A+B))\n",
    "offset = 0x0\n",
    "# Single Zero FIR coefficients\n",
    "zcu.wbw(offset+0x04, B)\n",
    "zcu.wbw(offset+0x04, A)\n",
    "\n",
    "# Pole IIR coefficients\n",
    "zcu.wbw(offset+0x08, 0)\n",
    "zcu.wbw(offset+0x08, 0)\n",
    "zcu.wbw(offset+0x08, 0)\n",
    "zcu.wbw(offset+0x08, 0)\n",
    "\n",
    "# Incremental computation coefficients\n",
    "zcu.wbw(offset+0x0C, 0)\n",
    "zcu.wbw(offset+0x0C, 0)\n",
    "\n",
    "# f FIR coefficients\n",
    "zcu.wbw(offset+0x10, 0) #D_FF\n",
    "zcu.wbw(offset+0x10, total)#X6\n",
    "zcu.wbw(offset+0x10, total)\n",
    "zcu.wbw(offset+0x10, total)\n",
    "zcu.wbw(offset+0x10, total)\n",
    "zcu.wbw(offset+0x10, total)\n",
    "zcu.wbw(offset+0x10, total)#!!!!!\n",
    "\n",
    "# g FIR coefficients\n",
    "zcu.wbw(offset+0x14, 0) #E_GG\n",
    "zcu.wbw(offset+0x14, 0) #X7\n",
    "zcu.wbw(offset+0x14, 0)\n",
    "zcu.wbw(offset+0x14, 0)\n",
    "zcu.wbw(offset+0x14, 0)\n",
    "zcu.wbw(offset+0x14, 0)\n",
    "zcu.wbw(offset+0x14, 0)\n",
    "zcu.wbw(offset+0x14, 0)#16384)#!!!!\n",
    "\n",
    "# g coefficient in F\n",
    "zcu.wbw(offset+0x18, 0) #D_FG\n",
    "\n",
    "# f coefficient in G\n",
    "zcu.wbw(offset+0x1C, 0) #E_GF\n",
    "\n",
    "zcu.wbw(offset+0x00, 1)\n",
    "\n",
    "\n",
    "\n",
    "offset = 0x80\n",
    "# Single Zero FIR coefficients\n",
    "zcu.wbw(offset+0x04, B)\n",
    "zcu.wbw(offset+0x04, A)\n",
    "\n",
    "# Pole IIR coefficients\n",
    "zcu.wbw(offset+0x08, 0)\n",
    "zcu.wbw(offset+0x08, 0)\n",
    "zcu.wbw(offset+0x08, 0)\n",
    "zcu.wbw(offset+0x08, 0)\n",
    "\n",
    "# Incremental computation coefficients\n",
    "zcu.wbw(offset+0x0C, 0)\n",
    "zcu.wbw(offset+0x0C, 0)\n",
    "\n",
    "# f FIR coefficients\n",
    "zcu.wbw(offset+0x10, 0) #D_FF\n",
    "zcu.wbw(offset+0x10, 0) #X6\n",
    "zcu.wbw(offset+0x10, 0)\n",
    "zcu.wbw(offset+0x10, 0)\n",
    "zcu.wbw(offset+0x10, 0)\n",
    "zcu.wbw(offset+0x10, 0)\n",
    "zcu.wbw(offset+0x10, 0)\n",
    "\n",
    "# g FIR coefficients\n",
    "zcu.wbw(offset+0x14, 0) #E_GG\n",
    "zcu.wbw(offset+0x14, 0) #X7\n",
    "zcu.wbw(offset+0x14, 0)\n",
    "zcu.wbw(offset+0x14, 0)\n",
    "zcu.wbw(offset+0x14, 0)\n",
    "zcu.wbw(offset+0x14, 0)\n",
    "zcu.wbw(offset+0x14, 0)\n",
    "zcu.wbw(offset+0x14, 0)\n",
    "\n",
    "# g coefficient in F\n",
    "zcu.wbw(offset+0x18, 0) #D_FG\n",
    "\n",
    "# f coefficient in G\n",
    "zcu.wbw(offset+0x1C, 0) #E_GF\n",
    "\n",
    "zcu.wbw(offset+0x00, 1)"
   ]
  },
  {
   "cell_type": "code",
   "execution_count": 17,
   "id": "bb79a9be-62d7-48c8-91c6-217c9226c1b7",
   "metadata": {},
   "outputs": [],
   "source": [
    "captured_data_after = np.zeros((4,16384), dtype=np.int16)#np.zeros((4,128*20), dtype=np.int16) # Channels, length\n",
    "zcu.internal_capture(captured_data_after, num_chan=4)"
   ]
  },
  {
   "cell_type": "code",
   "execution_count": 18,
   "id": "6b0d7bd1-73c8-4319-a5a2-3a0003b476b4",
   "metadata": {},
   "outputs": [
    {
     "data": {
      "image/png": "[encoded data removed]",
      "text/plain": [
       "<Figure size 432x288 with 1 Axes>"
      ]
     },
     "metadata": {
      "needs_background": "light"
     },
     "output_type": "display_data"
    },
    {
     "data": {
      "image/png": "[encoded data removed]",
      "text/plain": [
       "<Figure size 432x288 with 1 Axes>"
      ]
     },
     "metadata": {
      "needs_background": "light"
     },
     "output_type": "display_data"
    },
    {
     "name": "stdout",
     "output_type": "stream",
     "text": [
      "******\n",
      "\n",
      "\n"
     ]
    },
    {
     "data": {
      "image/png": "[encoded data removed]",
      "text/plain": [
       "<Figure size 432x288 with 1 Axes>"
      ]
     },
     "metadata": {
      "needs_background": "light"
     },
     "output_type": "display_data"
    },
    {
     "data": {
      "image/png": "[encoded data removed]",
      "text/plain": [
       "<Figure size 432x288 with 1 Axes>"
      ]
     },
     "metadata": {
      "needs_background": "light"
     },
     "output_type": "display_data"
    },
    {
     "name": "stdout",
     "output_type": "stream",
     "text": [
      "******\n",
      "\n",
      "\n"
     ]
    }
   ],
   "source": [
    "\n",
    "index = 0\n",
    "for index in range(2):\n",
    "    plt.plot(np.array(range(len(captured_data_before[index]))), captured_data_before[index], linestyle=\"None\", \n",
    "             marker=\".\", label = \"Input\", color=\"b\")\n",
    "    plt.plot(np.array(range(len(captured_data_before[index+2]))), captured_data_before[index+2], linestyle=\"None\", \n",
    "             marker=\"+\", label = \"Output before\", color=\"r\")\n",
    "    plt.plot(np.array(range(len(captured_data_after[index+2]))), captured_data_after[index+2], linestyle=\"None\", \n",
    "             marker=\".\", label = \"Output after\", color=\"g\")\n",
    "    plt.xlabel(\"Samples\")\n",
    "    plt.ylabel(\"ADC Values\")\n",
    "    plt.legend()\n",
    "    plt.xlim(250,900)\n",
    "    plt.title(\"Channel %s\"%index)\n",
    "    plt.savefig(\"Xall_16384_f1_%s.png\"%index)\n",
    "    plt.show()\n",
    "    \n",
    "    plt.plot(np.array(range(len(captured_data_before[index]))), captured_data_before[index], linestyle=\"None\", \n",
    "             marker=\".\", label = \"Input\", color=\"b\")\n",
    "    plt.plot(np.array(range(len(captured_data_before[index+2]))), captured_data_before[index+2], linestyle=\"None\", \n",
    "             marker=\"+\", label = \"Output before\", color=\"r\")\n",
    "    plt.plot(np.array(range(len(captured_data_after[index+2]))), captured_data_after[index+2], linestyle=\"None\", \n",
    "             marker=\".\", label = \"Output after\", color=\"g\")\n",
    "    plt.xlabel(\"Samples\")\n",
    "    plt.ylabel(\"ADC Values\")\n",
    "    plt.legend()\n",
    "    plt.title(\"Channel %s zoom\"%index)\n",
    "    plt.xlim(395,475)\n",
    "    plt.savefig(\"Xall_16384_f1_%s_zoom.png\"%index)\n",
    "    plt.show()\n",
    "    \n",
    "    \n",
    "    \n",
    "    # plt.plot(np.array(range(len(captured_data[index]))), captured_data[index], linestyle=\"None\", marker=\".\", label = \"%s\"%index)\n",
    "    # # print(\"[%f, %f]\"%(np.max(captured_data[index])/(2.0**15),np.min(captured_data[index])/(2.0**15)))\n",
    "    # plt.xlabel(\"Samples\")\n",
    "    # plt.legend()\n",
    "    # plt.xlim(390,420)\n",
    "    # plt.title(\"Capture %s\"%index)\n",
    "    # plt.axvline(x=399.5, color='red')\n",
    "    # plt.show()\n",
    "    # plt.plot(np.array(range(len(captured_data[index]))), captured_data[index], linestyle=\"None\", marker=\".\", label = \"%s\"%index)\n",
    "    # # print(\"[%f, %f]\"%(np.max(captured_data[index])/(2.0**15),np.min(captured_data[index])/(2.0**15)))\n",
    "    # plt.xlabel(\"Samples\")\n",
    "    # plt.legend()\n",
    "    # plt.xlim(450,475)\n",
    "    # plt.title(\"Capture %s\"%index)\n",
    "    # plt.axvline(x=399.5, color='red')\n",
    "    # plt.show()\n",
    "    print(\"******\\n\\n\")\n",
    "np.save(\"capture_240822_A_0_B_1_impulse_Xall_16384_f_after.npy\",captured_data_after)\n",
    "np.save(\"capture_240822_A_0_B_1_impulse_Xall_16384_f_before.npy\",captured_data_before)#16384"
   ]
  },
  {
   "cell_type": "code",
   "execution_count": 19,
   "id": "ba3522ac-a29f-4b54-be01-1517aeeaf7a9",
   "metadata": {},
   "outputs": [
    {
     "ename": "NameError",
     "evalue": "name 'captured_data' is not defined",
     "output_type": "error",
     "traceback": [
      "\u001b[0;31m---------------------------------------------------------------------------\u001b[0m",
      "\u001b[0;31mNameError\u001b[0m                                 Traceback (most recent call last)",
      "Input \u001b[0;32mIn [19]\u001b[0m, in \u001b[0;36m<cell line: 1>\u001b[0;34m()\u001b[0m\n\u001b[0;32m----> 1\u001b[0m zcu\u001b[38;5;241m.\u001b[39minternal_capture(\u001b[43mcaptured_data\u001b[49m, num_chan\u001b[38;5;241m=\u001b[39m\u001b[38;5;241m4\u001b[39m)\n\u001b[1;32m      2\u001b[0m index \u001b[38;5;241m=\u001b[39m \u001b[38;5;241m0\u001b[39m\n\u001b[1;32m      3\u001b[0m \u001b[38;5;28;01mfor\u001b[39;00m index \u001b[38;5;129;01min\u001b[39;00m \u001b[38;5;28mrange\u001b[39m(\u001b[38;5;241m4\u001b[39m):\n",
      "\u001b[0;31mNameError\u001b[0m: name 'captured_data' is not defined"
     ]
    }
   ],
   "source": [
    "zcu.internal_capture(captured_data, num_chan=4)\n",
    "index = 0\n",
    "for index in range(4):\n",
    "    plt.plot(np.array(range(len(captured_data[index])))*333.3, captured_data[index], label = \"%s\"%index)\n",
    "    print(\"[%f, %f]\"%(np.max(captured_data[index])/(2.0**15),np.min(captured_data[index])/(2.0**15)))\n",
    "    plt.xlabel(\"ps\")\n",
    "    plt.legend()\n",
    "    # plt.xlim(50000,300000)\n",
    "    plt.show()\n"
   ]
  },
  {
   "cell_type": "code",
   "execution_count": null,
   "id": "ff6b5aba-8c08-43ea-92cf-9aca9631f8b1",
   "metadata": {},
   "outputs": [],
   "source": []
  },
  {
   "cell_type": "code",
   "execution_count": null,
   "id": "7de159d2-728a-4e60-95fc-b3f091887050",
   "metadata": {},
   "outputs": [],
   "source": [
    "zcu.internal_capture(captured_data, num_chan=4)\n",
    "index = 0\n",
    "for index in range(4):\n",
    "    plt.plot(np.array(range(len(captured_data[index]))), captured_data[index])\n",
    "    print(\"[%f, %f]\"%(np.max(captured_data[index])/(2.0**15),np.min(captured_data[index])/(2.0**15)))\n",
    "# plt.xlim(0,500)\n",
    "plt.xlabel(\"Samples\")\n",
    "plt.show()"
   ]
  },
  {
   "cell_type": "code",
   "execution_count": null,
   "id": "309f55a4-0952-4ad1-ab52-d92f52799425",
   "metadata": {},
   "outputs": [],
   "source": []
  }
 ],
 "metadata": {
  "kernelspec": {
   "display_name": "Python 3 (ipykernel)",
   "language": "python",
   "name": "python3"
  },
  "language_info": {
   "codemirror_mode": {
    "name": "ipython",
    "version": 3
   },
   "file_extension": ".py",
   "mimetype": "text/x-python",
   "name": "python",
   "nbconvert_exporter": "python",
   "pygments_lexer": "ipython3",
   "version": "3.10.4"
  }
 },
 "nbformat": 4,
 "nbformat_minor": 5
}
