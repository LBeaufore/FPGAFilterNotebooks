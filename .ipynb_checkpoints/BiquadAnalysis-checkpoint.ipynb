{
 "cells": [
  {
   "cell_type": "code",
   "execution_count": 1,
   "id": "e65e9de5",
   "metadata": {},
   "outputs": [],
   "source": [
    "import numpy as np\n",
    "from matplotlib import pyplot as plt"
   ]
  },
  {
   "cell_type": "code",
   "execution_count": 2,
   "id": "0df1f192",
   "metadata": {},
   "outputs": [
    {
     "name": "stdout",
     "output_type": "stream",
     "text": [
      "input0_offset: 280\n",
      "input1_offset: 280\n",
      "output0_offset: 401\n",
      "output1_offset: 401\n",
      "input0_offset%8: 0\n",
      "input1_offset%8: 0\n",
      "output0_offset%8: 1\n",
      "output1_offset%8: 1\n",
      "input 0 first value: -472\n",
      "output 0 first value: -480, div2: -480.0\n",
      "input 1 first value: -496\n",
      "output 1 first value: -496, div2: -496.0\n"
     ]
    }
   ],
   "source": [
    "captured_data = np.load(\"CaptureData/capture_07032024_0.npy\")\n",
    "input0_offset=np.argmax(np.abs(captured_data[0])>0)\n",
    "input1_offset=np.argmax(np.abs(captured_data[1])>0)\n",
    "output0_offset=np.argmax(np.abs(captured_data[2])>0)\n",
    "output1_offset=np.argmax(np.abs(captured_data[3])>0)\n",
    "\n",
    "print(\"input0_offset: %s\"%(input0_offset))\n",
    "print(\"input1_offset: %s\"%(input1_offset))\n",
    "print(\"output0_offset: %s\"%(output0_offset))\n",
    "print(\"output1_offset: %s\"%(output1_offset))\n",
    "\n",
    "print(\"input0_offset%%8: %s\"%(input0_offset%8))\n",
    "print(\"input1_offset%%8: %s\"%(input1_offset%8))\n",
    "print(\"output0_offset%%8: %s\"%(output0_offset%8))\n",
    "print(\"output1_offset%%8: %s\"%(output1_offset%8))\n",
    "\n",
    "# Truncate to 12 bits from 16\n",
    "input0 = captured_data[0]\n",
    "input0 = (input0/(2**4)).astype(np.int16)\n",
    "input0 = (input0*(2**4).astype(np.int16)\n",
    "input1 = captured_data[1]\n",
    "input1 = (input1/(2**4).astype(np.int16)\n",
    "input1 = (input1*(2**4).astype(np.int16)\n",
    "\n",
    "output0 = captured_data[2]\n",
    "output1 = captured_data[3]\n",
    "\n",
    "print(\"input 0 first value: %s\"%input0[input0_offset])\n",
    "print(\"output 0 first value: %s, div2: %s\"%(output0[output0_offset],output0[output0_offset]/1))\n",
    "print(\"input 1 first value: %s\"%input1[input1_offset])\n",
    "print(\"output 1 first value: %s, div2: %s\"%(output1[output1_offset],output1[output1_offset]/1))"
   ]
  },
  {
   "cell_type": "code",
   "execution_count": 15,
   "id": "cf1baf7e",
   "metadata": {},
   "outputs": [
    {
     "name": "stdout",
     "output_type": "stream",
     "text": [
      "[0 1 2 3 4 5 6 7 8 9]\n",
      "[0 0 2 2 4 4 6 6 8 8]\n"
     ]
    }
   ],
   "source": [
    "test = np.arange(10, dtype=np.int16)\n",
    "print(test)\n",
    "test = (test/2).astype(np.int16)\n",
    "test = (test*2).astype(np.int16)\n",
    "print(test)"
   ]
  },
  {
   "cell_type": "code",
   "execution_count": null,
   "id": "27e26d7b",
   "metadata": {},
   "outputs": [],
   "source": [
    "# for index in range(4):\n",
    "#     plt.plot(np.array(range(len(captured_data[index]))), captured_data[index], linestyle=\"None\", marker=\".\", label = \"%s\"%index)\n",
    "#     # print(\"[%f, %f]\"%(np.max(captured_data[index])/(2.0**15),np.min(captured_data[index])/(2.0**15)))\n",
    "#     plt.xlabel(\"Samples\")\n",
    "#     plt.legend()\n",
    "#     plt.xlim(200,1000)\n",
    "#     plt.show()\n",
    "\n",
    "plt.title(\"Signal Generator In\")\n",
    "plt.plot(np.array(range(len(captured_data[0]))), captured_data[0], linestyle=\"None\", \n",
    "         marker=\".\", label = \"In ADC 0\")\n",
    "# print(\"[%f, %f]\"%(np.max(captured_data[index])/(2.0**15),np.min(captured_data[index])/(2.0**15)))\n",
    "plt.xlabel(\"Samples\")\n",
    "plt.legend()\n",
    "plt.xlim(200,1000)\n",
    "\n",
    "plt.plot(np.array(range(len(captured_data[1]))), captured_data[1], linestyle=\"None\", \n",
    "         marker=\".\", label = \"In ADC 1\")\n",
    "# print(\"[%f, %f]\"%(np.max(captured_data[index])/(2.0**15),np.min(captured_data[index])/(2.0**15)))\n",
    "plt.xlabel(\"Samples\")\n",
    "plt.legend()\n",
    "plt.xlim(200,1000)\n",
    "plt.show()\n",
    "\n",
    "plt.title(\"Post Filter Out\")\n",
    "plt.plot(np.array(range(len(captured_data[2]))), captured_data[2], linestyle=\"None\", \n",
    "         marker=\".\", label = \"Out DAC 6\")\n",
    "# print(\"[%f, %f]\"%(np.max(captured_data[index])/(2.0**15),np.min(captured_data[index])/(2.0**15)))\n",
    "plt.xlabel(\"Samples\")\n",
    "plt.legend()\n",
    "plt.xlim(200,1000)\n",
    "\n",
    "plt.plot(np.array(range(len(captured_data[3]))), captured_data[3], linestyle=\"None\", \n",
    "         marker=\".\", label = \"Out DAC 7\")\n",
    "# print(\"[%f, %f]\"%(np.max(captured_data[index])/(2.0**15),np.min(captured_data[index])/(2.0**15)))\n",
    "plt.xlabel(\"Samples\")\n",
    "plt.legend()\n",
    "plt.xlim(200,1000)\n",
    "plt.show()"
   ]
  },
  {
   "cell_type": "code",
   "execution_count": null,
   "id": "de9494af",
   "metadata": {},
   "outputs": [],
   "source": [
    "phase0 = 0\n",
    "if phase0 != 0:\n",
    "    output0_decimated = output0[8:].reshape((-1,8))[:,[0,1]].reshape(-1)\n",
    "    input0_decimated = input0[8-phase0:-phase0].reshape((-1,8))[:,[0,1]].reshape(-1)\n",
    "    output0_samplenum = np.arange(len(output0))[8-phase0:-phase0].reshape((-1,8))[:,[0,1]].reshape(-1)\n",
    "else:\n",
    "    output0_decimated = output0[8:].reshape((-1,8))[:,[0,1]].reshape(-1)\n",
    "    input0_decimated = input0[8-phase0:].reshape((-1,8))[:,[0,1]].reshape(-1)\n",
    "    output0_samplenum = np.arange(len(output0))[8-phase0:].reshape((-1,8))[:,[0,1]].reshape(-1)\n",
    "\n",
    "input0_offset_decimated=np.argmax(np.abs(input0_decimated)>0)\n",
    "output0_offset_decimated=np.argmax(np.abs(output0_decimated)>0)"
   ]
  },
  {
   "cell_type": "code",
   "execution_count": null,
   "id": "6fcea520",
   "metadata": {},
   "outputs": [],
   "source": [
    "phase1 = 0\n",
    "if phase1 != 0:\n",
    "    output1_decimated = output1[8:-phase1].reshape((-1,8))[:,[0,1]].reshape(-1)\n",
    "    input1_decimated = input1[8-phase1:-phase1].reshape((-1,8))[:,[0,1]].reshape(-1)\n",
    "    output1_samplenum = np.arange(len(output1))[8-phase1:-phase1].reshape((-1,8))[:,[0,1]].reshape(-1)\n",
    "else:\n",
    "    output1_decimated = output1[8:].reshape((-1,8))[:,[0,1]].reshape(-1)\n",
    "    input1_decimated = input1[8-phase1:].reshape((-1,8))[:,[0,1]].reshape(-1)\n",
    "    output1_samplenum = np.arange(len(output1))[8-phase1:].reshape((-1,8))[:,[0,1]].reshape(-1)\n",
    "\n",
    "input1_offset_decimated=np.argmax(np.abs(input0_decimated)>0)\n",
    "output1_offset_decimated=np.argmax(np.abs(output0_decimated)>0)"
   ]
  },
  {
   "cell_type": "code",
   "execution_count": null,
   "id": "c4e63986",
   "metadata": {
    "scrolled": false
   },
   "outputs": [],
   "source": [
    "plt.title(\"Signal Generator In, Output Decimated and Divided by 2\")\n",
    "plt.plot(np.array(range(len(input0)))-input0_offset, input0, linestyle=\"None\", \n",
    "         marker=\".\", label = \"In ADC 0\")\n",
    "# print(\"[%f, %f]\"%(np.max(captured_data[index])/(2.0**15),np.min(captured_data[index])/(2.0**15)))\n",
    "plt.xlabel(\"Samples\")\n",
    "plt.legend()\n",
    "\n",
    "plt.plot(output0_samplenum-output0_offset, output0_decimated/1, linestyle=\"None\", \n",
    "         marker=\".\", label = \"(Output 0) / 2\")\n",
    "# print(\"[%f, %f]\"%(np.max(captured_data[index])/(2.0**15),np.min(captured_data[index])/(2.0**15)))\n",
    "plt.xlabel(\"Samples\")\n",
    "plt.legend()\n",
    "plt.xlim(-10,100)\n",
    "plt.show()\n",
    "\n",
    "plt.title(\"Signal Generator In, Output Decimated and Divided by 2\")\n",
    "plt.plot(np.array(range(len(input1)))-input1_offset, input1, linestyle=\"None\", \n",
    "         marker=\".\", label = \"In ADC 1\")\n",
    "# print(\"[%f, %f]\"%(np.max(captured_data[index])/(2.0**15),np.min(captured_data[index])/(2.0**15)))\n",
    "plt.xlabel(\"Samples\")\n",
    "plt.legend()\n",
    "\n",
    "plt.plot(output1_samplenum-output1_offset, output1_decimated/1, linestyle=\"None\", \n",
    "         marker=\".\", label = \"(Output 1) / 2\")\n",
    "# print(\"[%f, %f]\"%(np.max(captured_data[index])/(2.0**15),np.min(captured_data[index])/(2.0**15)))\n",
    "plt.xlabel(\"Samples\")\n",
    "plt.legend()\n",
    "plt.xlim(-10,100)\n",
    "plt.show()"
   ]
  },
  {
   "cell_type": "code",
   "execution_count": null,
   "id": "b7a00fb4",
   "metadata": {
    "scrolled": false
   },
   "outputs": [],
   "source": [
    "phase0 = 1\n",
    "difference_chan0 =  ((output0/1)[output0_offset-24:776+output0_offset] - \n",
    "                    input0[input0_offset-24:776+input0_offset])\n",
    "if(phase0):\n",
    "    difference_chan0 = difference_chan0[8-phase0:-phase0]\n",
    "difference_chan0_decimated = difference_chan0.reshape((-1,8))[:,[0,1]].reshape(-1)\n",
    "difference_chan0_samples = np.array(range(len(difference_chan0))).reshape((-1,8))[:,[0,1]].reshape(-1)\n",
    "\n",
    "phase1 = 1\n",
    "difference_chan1 =  ((output1/1)[output1_offset-24:776+output1_offset]- \n",
    "                    input1[input1_offset-24:776+input1_offset])\n",
    "if(phase1):\n",
    "    difference_chan1 = difference_chan1[8-phase1:-phase1]\n",
    "difference_chan1_decimated = difference_chan1.reshape((-1,8))[:,[0,1]].reshape(-1)\n",
    "difference_chan1_samples = np.array(range(len(difference_chan1))).reshape((-1,8))[:,[0,1]].reshape(-1)\n",
    "\n",
    "plt.plot( np.array(range(len(difference_chan0))), difference_chan0, linestyle=\"None\", \n",
    "         marker=\".\", label = \"Raw\")\n",
    "\n",
    "plt.title(\"Deltas, Channel 0\")\n",
    "plt.plot(difference_chan0_samples, difference_chan0_decimated, linestyle=\"None\", \n",
    "         marker=\".\", label = \"Decimated\")\n",
    "\n",
    "\n",
    "# print(\"[%f, %f]\"%(np.max(captured_data[index])/(2.0**15),np.min(captured_data[index])/(2.0**15)))\n",
    "plt.xlabel(\"Samples\")\n",
    "plt.legend()\n",
    "plt.xlim(-10,100)\n",
    "plt.show()\n",
    "\n",
    "plt.title(\"Deltas, Channel 1\")\n",
    "plt.plot(np.array(range(len(difference_chan1))), difference_chan1, linestyle=\"None\", \n",
    "         marker=\".\", label = \"Raw\")\n",
    "plt.plot(difference_chan1_samples, difference_chan1_decimated, linestyle=\"None\", \n",
    "         marker=\".\", label = \"Decimated\")\n",
    "# print(\"[%f, %f]\"%(np.max(captured_data[index])/(2.0**15),np.min(captured_data[index])/(2.0**15)))\n",
    "plt.xlabel(\"Samples\")\n",
    "plt.legend()\n",
    "plt.xlim(-10,100)\n",
    "plt.show()"
   ]
  },
  {
   "cell_type": "code",
   "execution_count": null,
   "id": "567a4671",
   "metadata": {},
   "outputs": [],
   "source": [
    "plt.plot( np.array(range(len(difference_chan0))), difference_chan0, linestyle=\"None\", \n",
    "         marker=\".\", label = \"Raw\")\n",
    "\n",
    "plt.title(\"Deltas, Channel 0\")\n",
    "plt.plot(difference_chan0_samples, difference_chan0_decimated, linestyle=\"None\", \n",
    "         marker=\".\", label = \"Decimated\")\n",
    "\n",
    "\n",
    "# print(\"[%f, %f]\"%(np.max(captured_data[index])/(2.0**15),np.min(captured_data[index])/(2.0**15)))\n",
    "plt.xlabel(\"Samples\")\n",
    "plt.legend()\n",
    "plt.xlim(-10,100)\n",
    "plt.ylim(-20,20)\n",
    "plt.show()\n",
    "\n",
    "plt.title(\"Deltas, Channel 1\")\n",
    "plt.plot(np.array(range(len(difference_chan1))), difference_chan1, linestyle=\"None\", \n",
    "         marker=\".\", label = \"Raw\")\n",
    "plt.plot(difference_chan1_samples, difference_chan1_decimated, linestyle=\"None\", \n",
    "         marker=\".\", label = \"Decimated\")\n",
    "# print(\"[%f, %f]\"%(np.max(captured_data[index])/(2.0**15),np.min(captured_data[index])/(2.0**15)))\n",
    "plt.xlabel(\"Samples\")\n",
    "plt.legend()\n",
    "plt.xlim(-10,100)\n",
    "plt.ylim(-20,20)\n",
    "plt.show()"
   ]
  },
  {
   "cell_type": "code",
   "execution_count": null,
   "id": "11cf32cd",
   "metadata": {
    "scrolled": true
   },
   "outputs": [],
   "source": [
    "print(input0[input0_offset-24-phase0:776+input0_offset-phase0])\n",
    "print((output0/2)[output0_offset-24:776+output0_offset])"
   ]
  },
  {
   "cell_type": "code",
   "execution_count": null,
   "id": "803c1be1",
   "metadata": {},
   "outputs": [],
   "source": [
    "np.array([0,1,2,3,4,5,6,7,8,9])[7:]"
   ]
  },
  {
   "cell_type": "code",
   "execution_count": null,
   "id": "051df7d7",
   "metadata": {},
   "outputs": [],
   "source": []
  }
 ],
 "metadata": {
  "kernelspec": {
   "display_name": "Python 3 (ipykernel)",
   "language": "python",
   "name": "python3"
  },
  "language_info": {
   "codemirror_mode": {
    "name": "ipython",
    "version": 3
   },
   "file_extension": ".py",
   "mimetype": "text/x-python",
   "name": "python",
   "nbconvert_exporter": "python",
   "pygments_lexer": "ipython3",
   "version": "3.11.5"
  }
 },
 "nbformat": 4,
 "nbformat_minor": 5
}
